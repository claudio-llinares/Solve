{
 "cells": [
  {
   "cell_type": "code",
   "execution_count": 1,
   "metadata": {},
   "outputs": [
    {
     "name": "stderr",
     "output_type": "stream",
     "text": [
      "ERROR:root:Invalid alias: The name clear can't be aliased because it is another magic command.\n",
      "ERROR:root:Invalid alias: The name more can't be aliased because it is another magic command.\n",
      "ERROR:root:Invalid alias: The name less can't be aliased because it is another magic command.\n",
      "ERROR:root:Invalid alias: The name man can't be aliased because it is another magic command.\n"
     ]
    },
    {
     "data": {
      "text/html": [
       "<style>.container { width:90% !important; }</style>"
      ],
      "text/plain": [
       "<IPython.core.display.HTML object>"
      ]
     },
     "metadata": {},
     "output_type": "display_data"
    }
   ],
   "source": [
    "%reset -f\n",
    "\n",
    "import numpy as np\n",
    "np.set_printoptions(linewidth=210)  # 210\n",
    "from IPython.core.display import display, HTML\n",
    "display(HTML(\"<style>.container { width:90% !important; }</style>\"))   # 100%\n",
    "\n",
    "import matplotlib.pyplot as plt\n",
    "\n",
    "import matplotlib.gridspec as gridspec"
   ]
  },
  {
   "cell_type": "code",
   "execution_count": 2,
   "metadata": {},
   "outputs": [
    {
     "name": "stdout",
     "output_type": "stream",
     "text": [
      "correction_rho =  75654573588.62263\n",
      "rho_crit       = 2.874563e+11 Msun/mpc^3\n",
      "rho_mean       = 8.623690e+10 Msun/mpc^3\n",
      "M total        = 8.465865e+13 Msun\n",
      "rho_mean*box   = 6.898952e+14 Msun\n",
      "rho_background = 7.565457e+10\n",
      "32168.30033763741\n",
      "229975.6996623626\n"
     ]
    }
   ],
   "source": [
    "# General parameters:\n",
    "ratio_rho   = 1.0e+4        # Ratio between central density and mean density of the Universe.\n",
    "aH          = 0.25   #0.01           # Constant in Herquist potential\n",
    "n_points_1D = 64\n",
    "n_points    = n_points_1D**3\n",
    "\n",
    "km2mpc   = 1.0/3.08568025e19\n",
    "kg2msun  = 1.0/(1.9198e+30)\n",
    "m2mpc    = 1.0/(3.08568025e22)\n",
    "m2kpc    = 1.0/(3.08568025e19)\n",
    "sec2gyr  = 1.0 / (1.0e+9 * 365.25 * 23.56 * 3600)\n",
    "G_mks    = 6.67428e-11   # m^3 kg^-1 s^-2\n",
    "omegam   = 0.3\n",
    "h_small  = 1.0\n",
    "H0       = 100.0*h_small*km2mpc          # km/sec/Mpc\n",
    "rho_crit = (3.0*H0**2)/(8.0*np.pi*G_mks*m2mpc**3/kg2msun)\n",
    "rho_mean = omegam*rho_crit\n",
    "\n",
    "#r_min = 1.0e-5   #1.0e-2  # minimum distance from the center for generating particles\n",
    "#r_max = np.sqrt(3.0)*box/2.0\n",
    "\n",
    "def M_hernquist(r):\n",
    "    \n",
    "    # Mass profile without taking into account background:\n",
    "    # In units of whatever we have in rho_mean\n",
    "    return 4.0*np.pi*(ratio_rho*rho_mean)*aH**3*(r/aH)**2/(1.0+r/aH)**2/2.0\n",
    "    #return (r/aH)**2/(1.0+r/aH)**2/2.0\n",
    "    #return 4.0*np.pi*(ratio_rho)*aH**3*(r/aH)**2/(1.0+r/aH)**2/2.0\n",
    "\n",
    "# Density:\n",
    "def rho_hernquist(r):\n",
    "    \n",
    "    return ratio_rho*rho_mean/((r/aH)*(1.0+r/aH)**3) #+ rho_background\n",
    "    #return ratio_rho/((r/aH)*(1.0+r/aH)**3) #+ rho_background\n",
    "    \n",
    "    \n",
    "# Define box size given the parameters of the profile:\n",
    "M_total = M_hernquist(10000)\n",
    "#mp = M_total/n_points\n",
    "\n",
    "# This gives the box size that is needed for the mean density of Hernquist to be the mean density of the Universe:\n",
    "# If you use this, then you do not need to add an additional background component.\n",
    "# This background component may be important in the case of MOND because it may bring things back to the Newtonian limit (maybe).\n",
    "if False:\n",
    "    box         = (M_total/rho_mean)**(1.0/3.0)\n",
    "    box_over_two = box/2.0\n",
    "    print(\"box = \", box)\n",
    "else:\n",
    "    # This is a different box size which may require a backgroun.\n",
    "    box = 20.0\n",
    "    \n",
    "box_over_two = box/2.0\n",
    "\n",
    "if True:\n",
    "    \n",
    "    correction_rho = (rho_mean*box**3-M_total)/(box**3)\n",
    "    print(\"correction_rho = \", correction_rho)\n",
    "    if correction_rho<0:\n",
    "        correction_rho = 0\n",
    "\n",
    "    print(\"rho_crit       = %e\" % rho_crit, \"Msun/mpc^3\")\n",
    "    print(\"rho_mean       = %e\" % rho_mean, \"Msun/mpc^3\")\n",
    "    print(\"M total        = %e\" % M_total, \"Msun\")\n",
    "    print(\"rho_mean*box   = %e\" % (rho_mean*box**3), \"Msun\")\n",
    "    print(\"rho_background = %e\" % correction_rho)\n",
    "    \n",
    "    mp = rho_mean*box**3/n_points\n",
    "    print(M_total/mp)\n",
    "    print((rho_mean*box**3-M_total)/mp)\n",
    "    n_parts_hernquist = int(M_total/mp)\n",
    "    n_parts_back      = n_points - n_parts_hernquist\n",
    "    "
   ]
  },
  {
   "cell_type": "code",
   "execution_count": 3,
   "metadata": {},
   "outputs": [],
   "source": [
    "from scipy.interpolate import interp1d\n",
    "\n",
    "# Invert M(r)\n",
    "r_table = np.logspace(-30,+30, 1000)\n",
    "#M_table = np.divide(M_hernquist(r_table),r_table**3)  # I do not know why people divide by r^3...\n",
    "M_table = M_hernquist(r_table)\n",
    "func = interp1d(M_table, r_table)"
   ]
  },
  {
   "cell_type": "code",
   "execution_count": 4,
   "metadata": {},
   "outputs": [
    {
     "name": "stdout",
     "output_type": "stream",
     "text": [
      "19.066977820927967 0.0\n",
      "230000\n",
      "240000\n",
      "250000\n",
      "260000\n",
      "Particles stored in  hernquist_particles_64parts_20mpc.dat\n",
      "Done\n"
     ]
    }
   ],
   "source": [
    "np.random.seed(1)\n",
    "\n",
    "x_data = np.zeros(n_points)\n",
    "y_data = np.zeros(n_points)\n",
    "z_data = np.zeros(n_points)\n",
    "\n",
    "# Set background\n",
    "x_data[0:n_parts_back] = np.random.uniform(low=0, high=box, size=n_parts_back)\n",
    "y_data[0:n_parts_back] = np.random.uniform(low=0, high=box, size=n_parts_back)\n",
    "z_data[0:n_parts_back] = np.random.uniform(low=0, high=box, size=n_parts_back)\n",
    "\n",
    "print(x_data[n_parts_back-1], x_data[n_parts_back])\n",
    "n = n_parts_back\n",
    "while True:\n",
    "    \n",
    "    # Draw radius from the mass:\n",
    "    M = np.random.uniform(low=0, high=M_total, size=1)\n",
    "    r = func(M)\n",
    "        \n",
    "    # Draw the angles:\n",
    "    cos_theta  = 1.0-2.0*np.random.uniform(low=0, high=1.0, size=1)\n",
    "    phi   = np.random.uniform(low=0, high=2.0*np.pi, size=1)\n",
    "\n",
    "    x_data[n] = r*np.sqrt(1.0-cos_theta**2)*np.cos(phi) + box_over_two\n",
    "    y_data[n] = r*np.sqrt(1.0-cos_theta**2)*np.sin(phi) + box_over_two\n",
    "    z_data[n] = r*cos_theta                             + box_over_two\n",
    "    \n",
    "    # Check that particle is inside the box\n",
    "    if x_data[n]>0 and x_data[n]<box and y_data[n]>0 and y_data[n]<box and z_data[n]>0 and z_data[n]<box:   #and r_trial<box/2.0:\n",
    "        n = n + 1\n",
    "        if(np.mod(n,10000)==0):\n",
    "            print(n)\n",
    "    \n",
    "    if n==n_points:\n",
    "        break\n",
    "        \n",
    "# Store solution:\n",
    "# It may be necessary to add $a$ factors to compare this solution with Ramses.\n",
    "# (Ramses fields contain $a$ factors in their definitions)\n",
    "if False:\n",
    "    np.savetxt(\"hernquist_particles_%dparts_%dmpc.dat\" % (n_points_1D, int(box)), \\\n",
    "               np.column_stack([x_data*h_small, y_data*h_small, z_data*h_small, np.zeros(n_points), np.zeros(n_points), np.zeros(n_points)]))\n",
    "else:\n",
    "    # Raw binary for Solve:\n",
    "    file = \"hernquist_particles_%dparts_%dmpc.dat\" % (n_points_1D, int(box))\n",
    "    f = open(file,'wb')\n",
    "    tmp = np.column_stack([x_data, y_data, z_data, np.zeros(n_points), np.zeros(n_points), np.zeros(n_points)])\n",
    "    np.array(tmp, dtype=np.float64).tofile(f)\n",
    "    f.close()\n",
    "    print(\"Particles stored in \", file)\n",
    "\n",
    "print(\"Done\")"
   ]
  },
  {
   "cell_type": "code",
   "execution_count": 5,
   "metadata": {
    "scrolled": true
   },
   "outputs": [
    {
     "name": "stdout",
     "output_type": "stream",
     "text": [
      "mp =  2631741482.241626\n"
     ]
    },
    {
     "data": {
      "image/png": "[encoded data removed]",
      "text/plain": [
       "<Figure size 432x288 with 1 Axes>"
      ]
     },
     "metadata": {
      "needs_background": "light"
     },
     "output_type": "display_data"
    }
   ],
   "source": [
    "import scipy as sp\n",
    "import scipy.stats\n",
    "\n",
    "# These histograms are not correct:\n",
    "mp = box**3*rho_mean/n_points\n",
    "r_min = 1.0e-5\n",
    "r_max = 50.0\n",
    "print(\"mp = \", mp)\n",
    "r_plot   = np.logspace(np.log10(r_min),np.log10(r_max), 100)\n",
    "rho_plot = [ rho_hernquist(r_plot[i]) for i in range(len(r_plot)) ]\n",
    "\n",
    "radius = np.sqrt((x_data-box_over_two)**2+(y_data-box_over_two)**2+(z_data-box_over_two)**2)\n",
    "#hist = np.histogram(radius, defaultlimits=None, weights=None, printextras=False)   #[source]¶\n",
    "hist = np.histogram(radius) #, range=(1.0,100.0)) #, density=True)\n",
    "centers = (hist[1][1:] + hist[1][:-1])/2\n",
    "dx = centers[1]-centers[0]\n",
    "\n",
    "plt.plot(centers, hist[0]/(4.0*np.pi*centers**2*dx)*mp)\n",
    "plt.plot(r_plot, rho_plot)\n",
    "plt.yscale('log')\n",
    "plt.xscale('log')"
   ]
  },
  {
   "cell_type": "code",
   "execution_count": 6,
   "metadata": {},
   "outputs": [
    {
     "name": "stdout",
     "output_type": "stream",
     "text": [
      "262144 63.999999999999986 262144\n"
     ]
    },
    {
     "data": {
      "image/png": "[encoded data removed]",
      "text/plain": [
       "<Figure size 432x288 with 1 Axes>"
      ]
     },
     "metadata": {
      "needs_background": "light"
     },
     "output_type": "display_data"
    }
   ],
   "source": [
    "print(len(x_data), len(x_data)**(1.0/3), 64**3)\n",
    "plt.scatter(x_data, z_data, marker=\".\")\n",
    "plt.show()"
   ]
  },
  {
   "cell_type": "code",
   "execution_count": null,
   "metadata": {},
   "outputs": [],
   "source": []
  },
  {
   "cell_type": "code",
   "execution_count": 170,
   "metadata": {},
   "outputs": [
    {
     "data": {
      "image/png": "[encoded data removed]",
      "text/plain": [
       "<Figure size 864x360 with 2 Axes>"
      ]
     },
     "metadata": {
      "needs_background": "light"
     },
     "output_type": "display_data"
    }
   ],
   "source": [
    "\n",
    "r_plot = np.logspace(np.log10(1.0e-10),np.log10(1.0e+4), 100)\n",
    "M_plot = np.logspace(-10, 15.5, 100)\n",
    "\n",
    "plt.figure(figsize=(12,5))\n",
    "\n",
    "plt.subplot(121)\n",
    "rho_plot = [ rho_hernquist(r_plot[i]) for i in range(len(r_plot)) ]\n",
    "plt.plot(r_plot, rho_plot)\n",
    "plt.xscale('log')\n",
    "plt.yscale('log')\n",
    "plt.grid()\n",
    "\n",
    "plt.subplot(122)\n",
    "plt.plot(r_plot, M_hernquist(r_plot), lw=5)\n",
    "#plt.plot(func(M_plot), M_plot, lw=3)\n",
    "plt.xscale('log')\n",
    "plt.yscale('log')\n",
    "plt.grid()\n",
    "\n",
    "\n",
    "plt.show()"
   ]
  },
  {
   "cell_type": "code",
   "execution_count": null,
   "metadata": {},
   "outputs": [],
   "source": []
  }
 ],
 "metadata": {
  "kernelspec": {
   "display_name": "Python 3",
   "language": "python",
   "name": "python3"
  },
  "language_info": {
   "codemirror_mode": {
    "name": "ipython",
    "version": 3
   },
   "file_extension": ".py",
   "mimetype": "text/x-python",
   "name": "python",
   "nbconvert_exporter": "python",
   "pygments_lexer": "ipython3",
   "version": "3.7.3"
  }
 },
 "nbformat": 4,
 "nbformat_minor": 2
}
